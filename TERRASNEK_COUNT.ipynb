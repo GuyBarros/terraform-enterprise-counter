{
 "cells": [
  {
   "cell_type": "code",
   "execution_count": null,
   "metadata": {},
   "outputs": [],
   "source": [
    "import os\n",
    "from terrasnek.api import TFC as TFP\n",
    "import pprint\n",
    "import pandas\n",
    "pp = pprint.PrettyPrinter()"
   ]
  },
  {
   "cell_type": "code",
   "execution_count": null,
   "metadata": {},
   "outputs": [],
   "source": [
    "\n",
    "TFE_TOKEN = os.getenv(\"TFE_TOKEN\", \"\")\n",
    "TFE_URL = os.getenv(\"TFE_ADDR\", \"https://app.terraform.io\")  # ex: https://app.terraform.io\n",
    "\n",
    "api = TFP(TFE_TOKEN, url=TFE_URL)\n",
    "\n",
    "orgs = api.orgs.list()['data']\n",
    "print (f\"Found {len(orgs)} Organizations\")\n",
    "\n",
    "total_rum = 0\n",
    "total_workspaces = 0\n",
    "result = []\n",
    "for org in orgs:\n",
    "    org_workspaces_count = 0\n",
    "    api.set_org(org['id'])\n",
    "    print (f\".: looking up Organization {org['id']}\",)\n",
    "    all_workspaces = api.workspaces.list_all()['data']\n",
    "    org_workspaces_count += len (all_workspaces)\n",
    "    total_workspaces += org_workspaces_count\n",
    "    print (f\"Found {org_workspaces_count} Workspaces\")\n",
    "    \n",
    "    rum = 0\n",
    "    for workspace in all_workspaces:\n",
    "        # to add details per workspace\n",
    "        #runs = api.runs.list_all(workspace['id'])['data']\n",
    "        #print(workspace['attributes']['name'], workspace['attributes']['resource-count'])\n",
    "        rum += int(workspace['attributes']['resource-count'])\n",
    "    print(f\"RUM for org {org['id']}: {rum}\")\n",
    "    result.append(dict(Organization_id = org['id'], Workspaces = all_workspaces, Workspace_count = org_workspaces_count, RUM = rum ))\n",
    "    total_rum += rum\n",
    "\n",
    "\n",
    "\n",
    "data = pandas.DataFrame(result)"
   ]
  },
  {
   "cell_type": "code",
   "execution_count": null,
   "metadata": {},
   "outputs": [],
   "source": [
    "\n",
    "data"
   ]
  },
  {
   "cell_type": "code",
   "execution_count": null,
   "metadata": {
    "scrolled": false
   },
   "outputs": [],
   "source": [
    "selected_row = data.loc[data['Organization_id'] == 'emea-se-playground-2019']\n",
    "workspaces_list = selected_row['Workspaces'].values[0]\n",
    "result = []\n",
    "print(\"Workspaces for 'emea-se-playground-2019':\")\n",
    "for workspace in workspaces_list:\n",
    "    name = workspace['attributes']['name']\n",
    "    resource_count = workspace['attributes']['resource-count']\n",
    "    result.append(dict(Name = name, Resource_count = resource_count))\n",
    "rum_by_workspace = pandas.DataFrame(result)\n",
    "rum_by_workspace.sort_values(by=['Resource_count'],ascending=False)\n"
   ]
  },
  {
   "cell_type": "code",
   "execution_count": null,
   "metadata": {},
   "outputs": [],
   "source": [
    "rum_by_workspace.sum()"
   ]
  }
 ],
 "metadata": {
  "interpreter": {
   "hash": "7abcbd56b144700ea5183fa6dc097167b20c15024ba85ac4aba314f623ca7318"
  },
  "kernelspec": {
   "display_name": "Python 3.8.3 64-bit ('tfe_counter': pyenv)",
   "name": "python3"
  },
  "language_info": {
   "codemirror_mode": {
    "name": "ipython",
    "version": 3
   },
   "file_extension": ".py",
   "mimetype": "text/x-python",
   "name": "python",
   "nbconvert_exporter": "python",
   "pygments_lexer": "ipython3",
   "version": "3.11.6"
  }
 },
 "nbformat": 4,
 "nbformat_minor": 4
}
