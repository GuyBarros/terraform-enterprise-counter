{
 "cells": [
  {
   "cell_type": "code",
   "execution_count": 6,
   "metadata": {},
   "outputs": [
    {
     "output_type": "error",
     "ename": "Error",
     "evalue": "Jupyter cannot be started. Error attempting to locate jupyter: Data Science libraries notebook and jupyter are not installed in interpreter Python 3.8.3 64-bit ('vault-basic': venv).",
     "traceback": [
      "Error: Jupyter cannot be started. Error attempting to locate jupyter: Data Science libraries notebook and jupyter are not installed in interpreter Python 3.8.3 64-bit ('vault-basic': venv).",
      "at b.startServer (/Users/guy/.vscode/extensions/ms-python.python-2020.7.96456/out/client/extension.js:48:297517)",
      "at runMicrotasks (<anonymous>)",
      "at processTicksAndRejections (internal/process/task_queues.js:85:5)",
      "at async b.createServer (/Users/guy/.vscode/extensions/ms-python.python-2020.7.96456/out/client/extension.js:48:296959)",
      "at async connect (/Users/guy/.vscode/extensions/ms-python.python-2020.7.96456/out/client/extension.js:48:431724)",
      "at async P.ensureConnectionAndNotebookImpl (/Users/guy/.vscode/extensions/ms-python.python-2020.7.96456/out/client/extension.js:24:456935)",
      "at async P.ensureConnectionAndNotebook (/Users/guy/.vscode/extensions/ms-python.python-2020.7.96456/out/client/extension.js:24:456613)",
      "at async P.clearResult (/Users/guy/.vscode/extensions/ms-python.python-2020.7.96456/out/client/extension.js:24:452496)",
      "at async P.reexecuteCell (/Users/guy/.vscode/extensions/ms-python.python-2020.7.96456/out/client/extension.js:24:439252)",
      "at async P.reexecuteCells (/Users/guy/.vscode/extensions/ms-python.python-2020.7.96456/out/client/extension.js:24:435670)"
     ]
    }
   ],
   "source": [
    "import json\n",
    "import requests\n",
    "import os\n",
    "import pprint\n",
    "import pandas\n",
    "from yaspin import yaspin\n",
    "pp = pprint.PrettyPrinter()\n",
    "%matplotlib widget"
   ]
  },
  {
   "cell_type": "code",
   "execution_count": 7,
   "metadata": {},
   "outputs": [],
   "source": [
    "\n",
    "TFE_ADDR =  os.environ.get('TFE_ADDR', 'https://app.terraform.io')\n",
    "TFE_API_TOKEN =  os.environ.get('TFE_API_TOKEN', '')\n",
    "TFE_SITE_ADMIN =  os.environ.get('TFE_SITE_ADMIN', 'true')\n",
    "headers = {\n",
    "    'Content-Type': 'application/vnd.api+json',\n",
    "    'Authorization': f\"Bearer {TFE_API_TOKEN}\"  \n",
    "    }"
   ]
  },
  {
   "cell_type": "code",
   "execution_count": 8,
   "metadata": {},
   "outputs": [],
   "source": [
    "@yaspin(text=\"Loading...\")\n",
    "def getWorkspacesFromAdmin():\n",
    "    resp = requests.get(TFE_ADDR+f'/api/v2/admin/workspaces', headers=headers )\n",
    "    if resp.status_code != 200:\n",
    "        # This means something went wrong.\n",
    "        pp.pprint(f\"something went wrong: {resp}\")\n",
    "    todo  = resp.json()['meta']\n",
    "    todo_item = resp.json()['meta']['status-counts']\n",
    "    result = []\n",
    "    info = { \n",
    "      \"pending\": todo_item[\"pending\"],\n",
    "      \"plan-queued\": todo_item[\"plan-queued\"],\n",
    "      \"planning\": todo_item[\"planning\"],\n",
    "      \"planned\": todo_item[\"planned\"],\n",
    "      \"confirmed\": todo_item[\"confirmed\"],\n",
    "      \"apply-queued\": todo_item[\"apply-queued\"],\n",
    "      \"applying\": todo_item[\"applying\"],\n",
    "      \"applied\": todo_item[\"applied\"],\n",
    "      \"discarded\": todo_item[\"discarded\"],\n",
    "      \"errored\": todo_item[\"errored\"],\n",
    "      \"canceled\": todo_item[\"canceled\"],\n",
    "      \"cost-estimating\": todo_item[\"cost-estimating\"],\n",
    "      \"cost-estimated\": todo_item[\"cost-estimated\"],\n",
    "      \"policy-checking\": todo_item[\"policy-checking\"],\n",
    "      \"policy-override\": todo_item[\"policy-override\"],\n",
    "      \"policy-checked\": todo_item[\"policy-checked\"],\n",
    "      \"policy-soft-failed\": todo_item[\"policy-soft-failed\"],\n",
    "      \"planned-and-finished\": todo_item[\"planned-and-finished\"],\n",
    "      \"none\": todo_item[\"none\"],\n",
    "      \"total\": todo_item[\"total\"]\n",
    "         }\n",
    "    result.append(info)\n",
    "    return result    "
   ]
  },
  {
   "cell_type": "markdown",
   "metadata": {},
   "source": [
    "data = pandas.DataFrame(getWorkspacesFromAdmin())\n",
    "data"
   ]
  },
  {
   "cell_type": "code",
   "execution_count": 11,
   "metadata": {},
   "outputs": [
    {
     "data": {
      "application/vnd.jupyter.widget-view+json": {
       "model_id": "f225ece2c0d64b91ac137540de70f74a",
       "version_major": 2,
       "version_minor": 0
      },
      "text/plain": [
       "Canvas(toolbar=Toolbar(toolitems=[('Home', 'Reset original view', 'home', 'home'), ('Back', 'Back to previous …"
      ]
     },
     "metadata": {},
     "output_type": "display_data"
    },
    {
     "data": {
      "text/plain": [
       "<matplotlib.axes._subplots.AxesSubplot at 0x7fe3649e2d60>"
      ]
     },
     "execution_count": 11,
     "metadata": {},
     "output_type": "execute_result"
    }
   ],
   "source": [
    "data.plot.bar()"
   ]
  }
 ],
 "metadata": {
  "kernelspec": {
   "display_name": "Python 3",
   "language": "python",
   "name": "python3"
  },
  "language_info": {
   "codemirror_mode": {
    "name": "ipython",
    "version": 3
   },
   "file_extension": ".py",
   "mimetype": "text/x-python",
   "name": "python",
   "nbconvert_exporter": "python",
   "pygments_lexer": "ipython3",
   "version": "3.8.5"
  }
 },
 "nbformat": 4,
 "nbformat_minor": 4
}