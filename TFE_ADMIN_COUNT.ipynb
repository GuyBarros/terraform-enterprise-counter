{
 "cells": [
  {
   "cell_type": "code",
   "execution_count": null,
   "metadata": {},
   "outputs": [],
   "source": [
    "import json\n",
    "import requests\n",
    "import os\n",
    "import pprint\n",
    "import pandas\n",
    "from yaspin import yaspin\n",
    "pp = pprint.PrettyPrinter()\n",
    "%matplotlib widget"
   ]
  },
  {
   "cell_type": "code",
   "execution_count": 9,
   "metadata": {},
   "outputs": [],
   "source": [
    "\n",
    "TFE_ADDR =  os.environ.get('TFE_ADDR', 'https://app.terraform.io')\n",
    "TFE_API_TOKEN =  os.environ.get('TFE_API_TOKEN', '')\n",
    "TFE_SITE_ADMIN =  os.environ.get('TFE_SITE_ADMIN', 'true')\n",
    "headers = {\n",
    "    'Content-Type': 'application/vnd.api+json',\n",
    "    'Authorization': f\"Bearer {TFE_API_TOKEN}\"  \n",
    "    }"
   ]
  },
  {
   "cell_type": "code",
   "execution_count": null,
   "metadata": {
    "jupyter": {
     "source_hidden": true
    }
   },
   "outputs": [],
   "source": [
    "@yaspin(text=\"Loading...\")\n",
    "def getWorkspacesFromAdmin():\n",
    "    resp = requests.get(TFE_ADDR+f'/api/v2/admin/workspaces', headers=headers )\n",
    "    if resp.status_code != 200:\n",
    "        # This means something went wrong.\n",
    "        pp.pprint(f\"something went wrong: {resp}\")\n",
    "    todo  = resp.json()['meta']\n",
    "    todo_item = resp.json()['meta']['status-counts']\n",
    "    result = []\n",
    "    info = { \n",
    "      \"pending\": todo_item[\"pending\"],\n",
    "      \"plan-queued\": todo_item[\"plan-queued\"],\n",
    "      \"planning\": todo_item[\"planning\"],\n",
    "      \"planned\": todo_item[\"planned\"],\n",
    "      \"confirmed\": todo_item[\"confirmed\"],\n",
    "      \"apply-queued\": todo_item[\"apply-queued\"],\n",
    "      \"applying\": todo_item[\"applying\"],\n",
    "      \"applied\": todo_item[\"applied\"],\n",
    "      \"discarded\": todo_item[\"discarded\"],\n",
    "      \"errored\": todo_item[\"errored\"],\n",
    "      \"canceled\": todo_item[\"canceled\"],\n",
    "      \"cost-estimating\": todo_item[\"cost-estimating\"],\n",
    "      \"cost-estimated\": todo_item[\"cost-estimated\"],\n",
    "      \"policy-checking\": todo_item[\"policy-checking\"],\n",
    "      \"policy-override\": todo_item[\"policy-override\"],\n",
    "      \"policy-checked\": todo_item[\"policy-checked\"],\n",
    "      \"policy-soft-failed\": todo_item[\"policy-soft-failed\"],\n",
    "      \"planned-and-finished\": todo_item[\"planned-and-finished\"],\n",
    "      \"none\": todo_item[\"none\"],\n",
    "      \"total\": todo_item[\"total\"]\n",
    "         }\n",
    "    result.append(info)\n",
    "    return result    "
   ]
  },
  {
   "cell_type": "markdown",
   "metadata": {},
   "source": []
  },
  {
   "cell_type": "code",
   "execution_count": 10,
   "metadata": {},
   "outputs": [
    {
     "name": "stdout",
     "output_type": "stream",
     "text": [
      "\u001b[K0m Loading...\u001b[K"
     ]
    }
   ],
   "source": [
    "data = pandas.DataFrame(getWorkspacesFromAdmin())"
   ]
  },
  {
   "cell_type": "code",
   "execution_count": null,
   "metadata": {},
   "outputs": [],
   "source": [
    "data"
   ]
  },
  {
   "cell_type": "code",
   "execution_count": null,
   "metadata": {},
   "outputs": [],
   "source": []
  }
 ],
 "metadata": {
  "kernelspec": {
   "display_name": "Python 3",
   "language": "python",
   "name": "python3"
  },
  "language_info": {
   "codemirror_mode": {
    "name": "ipython",
    "version": 3
   },
   "file_extension": ".py",
   "mimetype": "text/x-python",
   "name": "python",
   "nbconvert_exporter": "python",
   "pygments_lexer": "ipython3",
   "version": "3.8.3"
  }
 },
 "nbformat": 4,
 "nbformat_minor": 4
}
