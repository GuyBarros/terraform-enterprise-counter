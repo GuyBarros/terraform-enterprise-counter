{
 "cells": [
  {
   "cell_type": "code",
   "execution_count": 2,
   "metadata": {},
   "outputs": [],
   "source": [
    "import json\n",
    "import requests\n",
    "import os\n",
    "import pprint\n",
    "import pandas\n",
    "import time\n",
    "from datetime import datetime\n",
    "from datetime import date\n",
    "from yaspin import yaspin\n",
    "pp = pprint.PrettyPrinter()"
   ]
  },
  {
   "cell_type": "code",
   "execution_count": 3,
   "metadata": {},
   "outputs": [],
   "source": [
    "\n",
    "TFE_ADDR =  os.environ.get('TFE_ADDR', 'https://app.terraform.io')\n",
    "TFE_API_TOKEN =  os.environ.get('TFE_API_TOKEN', '')\n",
    "TFE_SITE_ADMIN =  os.environ.get('TFE_SITE_ADMIN', 'false')\n",
    "TFE_PAGE_COUNT =  os.environ.get('TFE_PAGE_COUNT', 100)\n",
    "TFE_FILTER_START_DATE = os.environ.get('TFE_FILTER_START_DATE', '01.01.2023')\n",
    "TFE_FILTER_END_DATE = os.environ.get('TFE_FILTER_END_DATE', date.today().strftime('%d.%m.%Y'))\n",
    "\n",
    "date_start = datetime.strptime(TFE_FILTER_START_DATE, '%d.%m.%Y')\n",
    "date_end = datetime.strptime(TFE_FILTER_END_DATE, '%d.%m.%Y')\n",
    "\n",
    "headers = {\n",
    "    'Content-Type': 'application/vnd.api+json',\n",
    "    'Authorization': f\"Bearer {TFE_API_TOKEN}\"  \n",
    "    }"
   ]
  },
  {
   "cell_type": "code",
   "execution_count": 4,
   "metadata": {
    "jupyter": {
     "source_hidden": true
    }
   },
   "outputs": [],
   "source": [
    "@yaspin(text=\"Loading...\")\n",
    "def getOrgObj():\n",
    "    result = []\n",
    "    resp = requests.get(TFE_ADDR+'/api/v2/organizations', headers=headers )\n",
    "    if resp.status_code != 200:\n",
    "        # This means something went wrong.\n",
    "        pp.pprint(f\"something went wrong: {resp}\")\n",
    "        return \"\"\n",
    "    todo_item = resp.json()['data']\n",
    "    for item in todo_item:\n",
    "         info = { \n",
    "         'name': item['id'],\n",
    "         'total_runs': getRunsTotalCount(item['id']),\n",
    "         'workspace_count': getWorkspaceCount(item['id']),\n",
    "         'total_applies': getAppliesTotalCount(item['id']),    \n",
    "         'workspaces': getWorkspaceInfo(item['id'])\n",
    "         }\n",
    "         result.append(info)\n",
    "    return result    \n",
    "\n",
    "def getRunsTotalCount(organisation):\n",
    "    total_runs = 0\n",
    "    todo_item = getWorkspaceInfo(organisation)\n",
    "    for item in todo_item:\n",
    "        total_runs +=  getRunsCount(item)\n",
    "    pp.pprint(f\"Total runs for {organisation}: {total_runs}\")     \n",
    "    return total_runs\n",
    "\n",
    "def getAppliesTotalCount(organisation):\n",
    "    total_applies = 0\n",
    "    todo_item = getWorkspaceInfo(organisation)\n",
    "    for item in todo_item:\n",
    "        total_applies +=  getAppliesCount(item)\n",
    "    pp.pprint(f\"Total applies for {organisation}: {total_applies}\")    \n",
    "    return total_applies\n",
    "\n",
    "def getWorkspaceInfo(organisation):\n",
    "    page = 1\n",
    "    retorno = []\n",
    "    resp = requests.get(TFE_ADDR+f'/api/v2/organizations/{organisation}/workspaces?page[size]=100&page[number]={page}', headers=headers )\n",
    "    if resp.status_code != 200:\n",
    "        # This means something went wrong.\n",
    "        pp.pprint(f\"something went wrong: {resp}\")\n",
    "        return \"\"\n",
    "    metdata =   resp.json()['meta']['pagination']\n",
    "    current_page = metdata[\"current-page\"]\n",
    "    total_pages = metdata[\"total-pages\"]\n",
    "    while page <= total_pages:\n",
    "        todo_item = resp.json()['data']\n",
    "        metdata =   resp.json()['meta']['pagination']\n",
    "        current_page = metdata[\"current-page\"]\n",
    "        for item in todo_item:\n",
    "            retorno.append(item['id'])\n",
    "        page += 1\n",
    "        resp = requests.get(TFE_ADDR+f'/api/v2/organizations/{organisation}/workspaces?page[size]=100&page[number]={page}', headers=headers )\n",
    "    return retorno\n",
    "\n",
    "\n",
    "def getWorkspaceCount(organisation):\n",
    "    page = 1\n",
    "    retorno = []\n",
    "    resp = requests.get(TFE_ADDR+f'/api/v2/organizations/{organisation}/workspaces?page[size]=100&page[number]={page}', headers=headers )\n",
    "    if resp.status_code != 200:\n",
    "        # This means something went wrong.\n",
    "        pp.pprint(f\"something went wrong: {resp}\")\n",
    "        return \"\"\n",
    "    metdata =   resp.json()['meta']['pagination']\n",
    "    current_page = metdata[\"current-page\"]\n",
    "    total_pages = metdata[\"total-pages\"]\n",
    "    while page <= total_pages:\n",
    "        todo_item = resp.json()['data']\n",
    "        metdata =   resp.json()['meta']['pagination']\n",
    "        current_page = metdata[\"current-page\"]\n",
    "        for item in todo_item:\n",
    "            retorno.append(item['id'])\n",
    "        page += 1\n",
    "        resp = requests.get(TFE_ADDR+f'/api/v2/organizations/{organisation}/workspaces?page[size]=100&page[number]={page}', headers=headers )\n",
    "    return len(retorno)\n",
    "\n",
    "def getRunsCount(workspace_id):\n",
    "    page = 1\n",
    "    retorno = []\n",
    "    resp = requests.get(TFE_ADDR+f'/api/v2/workspaces/{workspace_id}/runs?page[size]=100&page[number]={page}', headers=headers )\n",
    "    if resp.status_code != 200:\n",
    "        # This means something went wrong.\n",
    "        pp.pprint(f\"something went wrong: {resp}\")\n",
    "        return \"\"\n",
    "    todo_item = resp.json()['data']\n",
    "    metdata =   resp.json()['meta']['pagination']\n",
    "    current_page = metdata[\"current-page\"]\n",
    "    total_pages = metdata[\"total-pages\"]\n",
    "    while page <= total_pages:\n",
    "        todo_item = resp.json()['data']\n",
    "        metdata =   resp.json()['meta']['pagination']\n",
    "        current_page = metdata[\"current-page\"]\n",
    "        for item in todo_item:\n",
    "            creation_date = datetime.strptime(item['attributes']['created-at'][:10], \"%Y-%m-%d\")\n",
    "            if date_start < creation_date and creation_date <= date_end : retorno.append(item['id'])\n",
    "        page += 1\n",
    "        resp = requests.get(TFE_ADDR+f'/api/v2/workspaces/{workspace_id}/runs?page[size]=100&page[number]={page}', headers=headers )\n",
    "    return len(retorno)\n",
    "    \n",
    "def getAppliesCount(workspace_id):\n",
    "    page = 1\n",
    "    retorno = []\n",
    "    resp = requests.get(TFE_ADDR+f'/api/v2/workspaces/{workspace_id}/runs?page[size]=100&page[number]={page}', headers=headers )\n",
    "    if resp.status_code != 200:\n",
    "        # This means something went wrong.\n",
    "        pp.pprint(f\"something went wrong while counting applies: {resp}\")\n",
    "        return \"\"\n",
    "    todo_item = resp.json()['data']\n",
    "    metdata =   resp.json()['meta']['pagination']\n",
    "    current_page = metdata[\"current-page\"]\n",
    "    total_pages = metdata[\"total-pages\"]\n",
    "    while page <= total_pages:\n",
    "        todo_item = resp.json()['data']\n",
    "        metdata =   resp.json()['meta']['pagination']\n",
    "        current_page = metdata[\"current-page\"]\n",
    "        for item in todo_item:\n",
    "            creation_date = datetime.strptime(item['attributes']['created-at'][:10], \"%Y-%m-%d\")\n",
    "            if item['attributes']['status'] == \"applied\" and date_start < creation_date and creation_date <= date_end : retorno.append(item['id'])\n",
    "        page += 1\n",
    "        resp = requests.get(TFE_ADDR+f'/api/v2/workspaces/{workspace_id}/runs?page[size]=100&page[number]={page}', headers=headers )\n",
    "    return len(retorno)    "
   ]
  },
  {
   "cell_type": "code",
   "execution_count": 5,
   "metadata": {},
   "outputs": [
    {
     "name": "stdout",
     "output_type": "stream",
     "text": [
      "⠧ Loading... 'something went wrong: <Response [429]>'\n",
      "             \r"
     ]
    },
    {
     "ename": "TypeError",
     "evalue": "unsupported operand type(s) for +=: 'int' and 'str'",
     "output_type": "error",
     "traceback": [
      "\u001b[0;31m---------------------------------------------------------------------------\u001b[0m",
      "\u001b[0;31mTypeError\u001b[0m                                 Traceback (most recent call last)",
      "Cell \u001b[0;32mIn[5], line 1\u001b[0m\n\u001b[0;32m----> 1\u001b[0m data \u001b[39m=\u001b[39m pandas\u001b[39m.\u001b[39mDataFrame(getOrgObj())\n\u001b[1;32m      2\u001b[0m data\n",
      "File \u001b[0;32m/opt/homebrew/lib/python3.11/site-packages/yaspin/core.py:113\u001b[0m, in \u001b[0;36mYaspin.__call__.<locals>.inner\u001b[0;34m(*args, **kwargs)\u001b[0m\n\u001b[1;32m    110\u001b[0m \u001b[39m@functools\u001b[39m\u001b[39m.\u001b[39mwraps(fn)\n\u001b[1;32m    111\u001b[0m \u001b[39mdef\u001b[39;00m \u001b[39minner\u001b[39m(\u001b[39m*\u001b[39margs, \u001b[39m*\u001b[39m\u001b[39m*\u001b[39mkwargs):\n\u001b[1;32m    112\u001b[0m     \u001b[39mwith\u001b[39;00m \u001b[39mself\u001b[39m:\n\u001b[0;32m--> 113\u001b[0m         \u001b[39mreturn\u001b[39;00m fn(\u001b[39m*\u001b[39;49margs, \u001b[39m*\u001b[39;49m\u001b[39m*\u001b[39;49mkwargs)\n",
      "Cell \u001b[0;32mIn[4], line 13\u001b[0m, in \u001b[0;36mgetOrgObj\u001b[0;34m()\u001b[0m\n\u001b[1;32m      9\u001b[0m todo_item \u001b[39m=\u001b[39m resp\u001b[39m.\u001b[39mjson()[\u001b[39m'\u001b[39m\u001b[39mdata\u001b[39m\u001b[39m'\u001b[39m]\n\u001b[1;32m     10\u001b[0m \u001b[39mfor\u001b[39;00m item \u001b[39min\u001b[39;00m todo_item:\n\u001b[1;32m     11\u001b[0m      info \u001b[39m=\u001b[39m { \n\u001b[1;32m     12\u001b[0m      \u001b[39m'\u001b[39m\u001b[39mname\u001b[39m\u001b[39m'\u001b[39m: item[\u001b[39m'\u001b[39m\u001b[39mid\u001b[39m\u001b[39m'\u001b[39m],\n\u001b[0;32m---> 13\u001b[0m      \u001b[39m'\u001b[39m\u001b[39mtotal_runs\u001b[39m\u001b[39m'\u001b[39m: getRunsTotalCount(item[\u001b[39m'\u001b[39;49m\u001b[39mid\u001b[39;49m\u001b[39m'\u001b[39;49m]),\n\u001b[1;32m     14\u001b[0m      \u001b[39m'\u001b[39m\u001b[39mworkspace_count\u001b[39m\u001b[39m'\u001b[39m: getWorkspaceCount(item[\u001b[39m'\u001b[39m\u001b[39mid\u001b[39m\u001b[39m'\u001b[39m]),\n\u001b[1;32m     15\u001b[0m      \u001b[39m'\u001b[39m\u001b[39mtotal_applies\u001b[39m\u001b[39m'\u001b[39m: getAppliesTotalCount(item[\u001b[39m'\u001b[39m\u001b[39mid\u001b[39m\u001b[39m'\u001b[39m]),    \n\u001b[1;32m     16\u001b[0m      \u001b[39m'\u001b[39m\u001b[39mworkspaces\u001b[39m\u001b[39m'\u001b[39m: getWorkspaceInfo(item[\u001b[39m'\u001b[39m\u001b[39mid\u001b[39m\u001b[39m'\u001b[39m])\n\u001b[1;32m     17\u001b[0m      }\n\u001b[1;32m     18\u001b[0m      result\u001b[39m.\u001b[39mappend(info)\n\u001b[1;32m     19\u001b[0m \u001b[39mreturn\u001b[39;00m result\n",
      "Cell \u001b[0;32mIn[4], line 25\u001b[0m, in \u001b[0;36mgetRunsTotalCount\u001b[0;34m(organisation)\u001b[0m\n\u001b[1;32m     23\u001b[0m todo_item \u001b[39m=\u001b[39m getWorkspaceInfo(organisation)\n\u001b[1;32m     24\u001b[0m \u001b[39mfor\u001b[39;00m item \u001b[39min\u001b[39;00m todo_item:\n\u001b[0;32m---> 25\u001b[0m     total_runs \u001b[39m+\u001b[39;49m\u001b[39m=\u001b[39;49m  getRunsCount(item)\n\u001b[1;32m     26\u001b[0m pp\u001b[39m.\u001b[39mpprint(\u001b[39mf\u001b[39m\u001b[39m\"\u001b[39m\u001b[39mTotal runs for \u001b[39m\u001b[39m{\u001b[39;00morganisation\u001b[39m}\u001b[39;00m\u001b[39m: \u001b[39m\u001b[39m{\u001b[39;00mtotal_runs\u001b[39m}\u001b[39;00m\u001b[39m\"\u001b[39m)     \n\u001b[1;32m     27\u001b[0m \u001b[39mreturn\u001b[39;00m total_runs\n",
      "\u001b[0;31mTypeError\u001b[0m: unsupported operand type(s) for +=: 'int' and 'str'"
     ]
    }
   ],
   "source": [
    "data = pandas.DataFrame(getOrgObj())\n",
    "data"
   ]
  },
  {
   "cell_type": "code",
   "execution_count": null,
   "metadata": {},
   "outputs": [],
   "source": [
    "df = data[['name','total_runs','total_applies']]\n",
    "df"
   ]
  },
  {
   "cell_type": "code",
   "execution_count": null,
   "metadata": {},
   "outputs": [],
   "source": [
    "ax = df.head().plot.bar(x='name', y='total_runs', rot=0)"
   ]
  },
  {
   "cell_type": "code",
   "execution_count": null,
   "metadata": {
    "scrolled": true
   },
   "outputs": [],
   "source": [
    "data"
   ]
  },
  {
   "cell_type": "code",
   "execution_count": null,
   "metadata": {
    "scrolled": false
   },
   "outputs": [],
   "source": [
    "test = data[['name' == 'devworks']]\n",
    "test"
   ]
  },
  {
   "cell_type": "code",
   "execution_count": null,
   "metadata": {
    "scrolled": true
   },
   "outputs": [],
   "source": [
    "data "
   ]
  },
  {
   "cell_type": "code",
   "execution_count": null,
   "metadata": {},
   "outputs": [],
   "source": [
    "clear"
   ]
  }
 ],
 "metadata": {
  "interpreter": {
   "hash": "7abcbd56b144700ea5183fa6dc097167b20c15024ba85ac4aba314f623ca7318"
  },
  "kernelspec": {
   "display_name": "Python 3.8.3 64-bit ('tfe_counter': pyenv)",
   "name": "python3"
  },
  "language_info": {
   "codemirror_mode": {
    "name": "ipython",
    "version": 3
   },
   "file_extension": ".py",
   "mimetype": "text/x-python",
   "name": "python",
   "nbconvert_exporter": "python",
   "pygments_lexer": "ipython3",
   "version": "3.11.4"
  }
 },
 "nbformat": 4,
 "nbformat_minor": 4
}
