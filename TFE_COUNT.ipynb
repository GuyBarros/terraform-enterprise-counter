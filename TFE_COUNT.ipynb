{
 "cells": [
  {
   "cell_type": "code",
   "execution_count": null,
   "metadata": {},
   "outputs": [],
   "source": [
    "import json\n",
    "import requests\n",
    "import os\n",
    "import pprint\n",
    "import pandas\n",
    "import time\n",
    "from yaspin import yaspin\n",
    "pp = pprint.PrettyPrinter()\n",
    "%matplotlib widget"
   ]
  },
  {
   "cell_type": "code",
   "execution_count": null,
   "metadata": {},
   "outputs": [],
   "source": [
    "\n",
    "TFE_ADDR =  os.environ.get('TFE_ADDR', 'https://app.terraform.io')\n",
    "TFE_API_TOKEN =  os.environ.get('TFE_API_TOKEN', '')\n",
    "TFE_SITE_ADMIN =  os.environ.get('TFE_SITE_ADMIN', 'false')\n",
    "headers = {\n",
    "    'Content-Type': 'application/vnd.api+json',\n",
    "    'Authorization': f\"Bearer {TFE_API_TOKEN}\"  \n",
    "    }"
   ]
  },
  {
   "cell_type": "code",
   "execution_count": null,
   "metadata": {
    "jupyter": {
     "source_hidden": true
    }
   },
   "outputs": [],
   "source": [
    "@yaspin(text=\"Loading...\")\n",
    "def getOrgObj():\n",
    "    result = []\n",
    "    resp = requests.get(TFE_ADDR+'/api/v2/organizations', headers=headers )\n",
    "    if resp.status_code != 200:\n",
    "        # This means something went wrong.\n",
    "        pp.pprint(f\"something went wrong: {resp}\")\n",
    "        return \"\"\n",
    "    todo_item = resp.json()['data']\n",
    "    for item in todo_item:\n",
    "         info = { \n",
    "         'name': item['id'],\n",
    "         'total_runs': getRunsTotalCount(item['id']),\n",
    "         'workspace_count': getWorkspaceCount(item['id']),\n",
    "         'total_applies': getAppliesTotalCount(item['id']),    \n",
    "         'workspaces': getWorkspaceInfo(item['id'])\n",
    "         }\n",
    "         result.append(info)\n",
    "    return result    \n",
    "\n",
    "def getRunsTotalCount(organisation):\n",
    "    total_runs = 0\n",
    "    todo_item = getWorkspaceInfo(organisation)\n",
    "    for item in todo_item:\n",
    "        total_runs +=  getRunsCount(item)\n",
    "    pp.pprint(f\"Total runs for {organisation}: {total_runs}\")     \n",
    "    return total_runs\n",
    "\n",
    "def getAppliesTotalCount(organisation):\n",
    "    total_applies = 0\n",
    "    todo_item = getWorkspaceInfo(organisation)\n",
    "    for item in todo_item:\n",
    "        total_applies +=  getAppliesCount(item)\n",
    "    pp.pprint(f\"Total applies for {organisation}: {total_applies}\")    \n",
    "    return total_applies\n",
    "\n",
    "def getWorkspaceInfo(organisation):\n",
    "    page = 1\n",
    "    retorno = []\n",
    "    resp = requests.get(TFE_ADDR+f'/api/v2/organizations/{organisation}/workspaces?page[size]=100&page[number]={page}', headers=headers )\n",
    "    if resp.status_code != 200:\n",
    "        # This means something went wrong.\n",
    "        pp.pprint(f\"something went wrong: {resp}\")\n",
    "        return \"\"\n",
    "    metdata =   resp.json()['meta']['pagination']\n",
    "    current_page = metdata[\"current-page\"]\n",
    "    total_pages = metdata[\"total-pages\"]\n",
    "    while page <= total_pages:\n",
    "        todo_item = resp.json()['data']\n",
    "        metdata =   resp.json()['meta']['pagination']\n",
    "        current_page = metdata[\"current-page\"]\n",
    "        for item in todo_item:\n",
    "            retorno.append(item['id'])\n",
    "        page += 1\n",
    "        resp = requests.get(TFE_ADDR+f'/api/v2/organizations/{organisation}/workspaces?page[size]=100&page[number]={page}', headers=headers )\n",
    "    return retorno\n",
    "\n",
    "\n",
    "def getWorkspaceCount(organisation):\n",
    "    page = 1\n",
    "    retorno = []\n",
    "    resp = requests.get(TFE_ADDR+f'/api/v2/organizations/{organisation}/workspaces?page[size]=100&page[number]={page}', headers=headers )\n",
    "    if resp.status_code != 200:\n",
    "        # This means something went wrong.\n",
    "        pp.pprint(f\"something went wrong: {resp}\")\n",
    "        return \"\"\n",
    "    metdata =   resp.json()['meta']['pagination']\n",
    "    current_page = metdata[\"current-page\"]\n",
    "    total_pages = metdata[\"total-pages\"]\n",
    "    while page <= total_pages:\n",
    "        todo_item = resp.json()['data']\n",
    "        metdata =   resp.json()['meta']['pagination']\n",
    "        current_page = metdata[\"current-page\"]\n",
    "        for item in todo_item:\n",
    "            retorno.append(item['id'])\n",
    "        page += 1\n",
    "        resp = requests.get(TFE_ADDR+f'/api/v2/organizations/{organisation}/workspaces?page[size]=100&page[number]={page}', headers=headers )\n",
    "    return len(retorno)\n",
    "\n",
    "def getRunsCount(workspace_id):\n",
    "    page = 1\n",
    "    retorno = []\n",
    "    resp = requests.get(TFE_ADDR+f'/api/v2/workspaces/{workspace_id}/runs?page[size]=100&page[number]={page}', headers=headers )\n",
    "    if resp.status_code != 200:\n",
    "        # This means something went wrong.\n",
    "        pp.pprint(f\"something went wrong: {resp}\")\n",
    "        return \"\"\n",
    "    todo_item = resp.json()['data']\n",
    "    metdata =   resp.json()['meta']['pagination']\n",
    "    current_page = metdata[\"current-page\"]\n",
    "    total_pages = metdata[\"total-pages\"]\n",
    "    while page <= total_pages:\n",
    "        todo_item = resp.json()['data']\n",
    "        metdata =   resp.json()['meta']['pagination']\n",
    "        current_page = metdata[\"current-page\"]\n",
    "        for item in todo_item:\n",
    "            retorno.append(item['id'])\n",
    "        page += 1\n",
    "        resp = requests.get(TFE_ADDR+f'/api/v2/workspaces/{workspace_id}/runs?page[size]=100&page[number]={page}', headers=headers )\n",
    "    return len(retorno)\n",
    "    \n",
    "def getAppliesCount(workspace_id):\n",
    "    page = 1\n",
    "    retorno = []\n",
    "    resp = requests.get(TFE_ADDR+f'/api/v2/workspaces/{workspace_id}/runs?page[size]=100&page[number]={page}', headers=headers )\n",
    "    if resp.status_code != 200:\n",
    "        # This means something went wrong.\n",
    "        pp.pprint(f\"something went wrong while counting applies: {resp}\")\n",
    "        return \"\"\n",
    "    todo_item = resp.json()['data']\n",
    "    metdata =   resp.json()['meta']['pagination']\n",
    "    current_page = metdata[\"current-page\"]\n",
    "    total_pages = metdata[\"total-pages\"]\n",
    "    while page <= total_pages:\n",
    "        todo_item = resp.json()['data']\n",
    "        metdata =   resp.json()['meta']['pagination']\n",
    "        current_page = metdata[\"current-page\"]\n",
    "        for item in todo_item:\n",
    "            if item['attributes']['status'] == \"applied\":\n",
    "                retorno.append(item['id'])\n",
    "            \n",
    "        page += 1\n",
    "        resp = requests.get(TFE_ADDR+f'/api/v2/workspaces/{workspace_id}/runs?page[size]=100&page[number]={page}', headers=headers )\n",
    "    return len(retorno)    "
   ]
  },
  {
   "cell_type": "code",
   "execution_count": null,
   "metadata": {},
   "outputs": [],
   "source": [
    "data = pandas.DataFrame(getOrgObj())\n",
    "data"
   ]
  },
  {
   "cell_type": "code",
   "execution_count": null,
   "metadata": {},
   "outputs": [],
   "source": [
    "df = data[['name','total_runs','total_applies']]\n",
    "df"
   ]
  },
  {
   "cell_type": "code",
   "execution_count": null,
   "metadata": {},
   "outputs": [],
   "source": [
    "ax = df.head().plot.bar(x='name', y='total_runs', rot=0)"
   ]
  },
  {
   "cell_type": "code",
   "execution_count": null,
   "metadata": {
    "scrolled": true
   },
   "outputs": [],
   "source": [
    "data"
   ]
  },
  {
   "cell_type": "code",
   "execution_count": null,
   "metadata": {
    "scrolled": false
   },
   "outputs": [],
   "source": [
    "test = data[['name' == 'devworks']]\n",
    "test"
   ]
  },
  {
   "cell_type": "code",
   "execution_count": null,
   "metadata": {
    "scrolled": true
   },
   "outputs": [],
   "source": [
    "data "
   ]
  },
  {
   "cell_type": "code",
   "execution_count": null,
   "metadata": {},
   "outputs": [],
   "source": [
    "clear"
   ]
  }
 ],
 "metadata": {
  "kernelspec": {
   "name": "python3",
   "display_name": "Python 3.8.3 64-bit ('tfe_counter': pyenv)"
  },
  "language_info": {
   "codemirror_mode": {
    "name": "ipython",
    "version": 3
   },
   "file_extension": ".py",
   "mimetype": "text/x-python",
   "name": "python",
   "nbconvert_exporter": "python",
   "pygments_lexer": "ipython3",
   "version": "3.8.3"
  },
  "interpreter": {
   "hash": "7abcbd56b144700ea5183fa6dc097167b20c15024ba85ac4aba314f623ca7318"
  }
 },
 "nbformat": 4,
 "nbformat_minor": 4
}